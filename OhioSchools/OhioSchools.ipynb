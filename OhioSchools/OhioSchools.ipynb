{
 "cells": [
  {
   "cell_type": "code",
   "execution_count": 1,
   "metadata": {},
   "outputs": [],
   "source": [
    "import pandas as pd"
   ]
  },
  {
   "cell_type": "code",
   "execution_count": 8,
   "metadata": {},
   "outputs": [
    {
     "data": {
      "text/html": [
       "<div>\n",
       "<style scoped>\n",
       "    .dataframe tbody tr th:only-of-type {\n",
       "        vertical-align: middle;\n",
       "    }\n",
       "\n",
       "    .dataframe tbody tr th {\n",
       "        vertical-align: top;\n",
       "    }\n",
       "\n",
       "    .dataframe thead th {\n",
       "        text-align: right;\n",
       "    }\n",
       "</style>\n",
       "<table border=\"1\" class=\"dataframe\">\n",
       "  <thead>\n",
       "    <tr style=\"text-align: right;\">\n",
       "      <th></th>\n",
       "      <th>School IRN</th>\n",
       "      <th>School Name</th>\n",
       "      <th>Operator</th>\n",
       "      <th>Notes</th>\n",
       "    </tr>\n",
       "  </thead>\n",
       "  <tbody>\n",
       "    <tr>\n",
       "      <th>0</th>\n",
       "      <td>142901</td>\n",
       "      <td>Life Skills Center of Canton</td>\n",
       "      <td>LS Canton, LLC*</td>\n",
       "      <td>Affilated with White Hat Management LLC</td>\n",
       "    </tr>\n",
       "    <tr>\n",
       "      <th>1</th>\n",
       "      <td>133785</td>\n",
       "      <td>Life Skills Center of Cincinnati</td>\n",
       "      <td>LS Cincinnati, LLC *</td>\n",
       "      <td>Affilated with White Hat Management LLC</td>\n",
       "    </tr>\n",
       "    <tr>\n",
       "      <th>2</th>\n",
       "      <td>8282</td>\n",
       "      <td>Life Skills Center of Columbus North</td>\n",
       "      <td>LS Columbus North, LLC *</td>\n",
       "      <td>Affilated with White Hat Management LLC</td>\n",
       "    </tr>\n",
       "    <tr>\n",
       "      <th>3</th>\n",
       "      <td>664</td>\n",
       "      <td>Life Skills Center of Columbus  Southeast</td>\n",
       "      <td>LS Eastland, LLC*</td>\n",
       "      <td>Affilated with White Hat Management LLC</td>\n",
       "    </tr>\n",
       "    <tr>\n",
       "      <th>4</th>\n",
       "      <td>142919</td>\n",
       "      <td>Life Skills Center of Elyria</td>\n",
       "      <td>LS Elyria, LLC*</td>\n",
       "      <td>Affilated with White Hat Management LLC</td>\n",
       "    </tr>\n",
       "  </tbody>\n",
       "</table>\n",
       "</div>"
      ],
      "text/plain": [
       "   School IRN                                School Name  \\\n",
       "0      142901               Life Skills Center of Canton   \n",
       "1      133785           Life Skills Center of Cincinnati   \n",
       "2        8282       Life Skills Center of Columbus North   \n",
       "3         664  Life Skills Center of Columbus  Southeast   \n",
       "4      142919               Life Skills Center of Elyria   \n",
       "\n",
       "                   Operator                                    Notes  \n",
       "0           LS Canton, LLC*  Affilated with White Hat Management LLC  \n",
       "1      LS Cincinnati, LLC *  Affilated with White Hat Management LLC  \n",
       "2  LS Columbus North, LLC *  Affilated with White Hat Management LLC  \n",
       "3         LS Eastland, LLC*  Affilated with White Hat Management LLC  \n",
       "4           LS Elyria, LLC*  Affilated with White Hat Management LLC  "
      ]
     },
     "execution_count": 8,
     "metadata": {},
     "output_type": "execute_result"
    }
   ],
   "source": [
    "operators = pd.read_excel('Operators.xlsx')\n",
    "operators.head(5)"
   ]
  },
  {
   "cell_type": "code",
   "execution_count": 9,
   "metadata": {},
   "outputs": [
    {
     "name": "stdout",
     "output_type": "stream",
     "text": [
      "<class 'pandas.core.frame.DataFrame'>\n",
      "RangeIndex: 373 entries, 0 to 372\n",
      "Data columns (total 4 columns):\n",
      "School IRN     373 non-null int64\n",
      "School Name    373 non-null object\n",
      "Operator       236 non-null object\n",
      "Notes          13 non-null object\n",
      "dtypes: int64(1), object(3)\n",
      "memory usage: 11.7+ KB\n"
     ]
    }
   ],
   "source": [
    "operators.info()"
   ]
  },
  {
   "cell_type": "code",
   "execution_count": 38,
   "metadata": {},
   "outputs": [
    {
     "name": "stdout",
     "output_type": "stream",
     "text": [
      "PK\u0003\u0004\u0014\u0000\b\b\b\u00006*K\u0000\u0000\u0000\u0000\u0000\u0000\u0000\u0000\u0000\u0000\u0000\u0000\u000b",
      "\u0000\u0000\u0000_rels/.rels­ÁNÃ0\f",
      "ï{*÷5Ý@\b¡¦»LH»!4\u001e",
      "À$n\u001bµ£ÄòöD\u0013\u0012\f",
      "²Ãq~þb¥ÞLn,Þ0&K^UY\u0002½&c}§ÄËþqy/6Í¢~Æ\u00118GRoC*rOJôÌáAÊ¤{tJ\n",
      "èóMKÑ\u0001çcìd\u0000=@r]Uw2þdæYì\u0012qgV¢Ø\u0004¼Mmk5nI\u001f\u001c",
      "z>3âW\"!vÈJL£|§8¼\u0012\n",
      "e\n",
      "yÞe}¹Ëßï\u000e\u0019\f",
      "0HM\u0011!æîÈ\u0016Ó·!ýËé\u0013º¹ærpbô\u0006Í¼\u00120gt{M#}HLî\u0015\u001d",
      "3_JZüËæ\u0013PK\u0007\b",
      "4î\u0000\u0000\u0000Î\u0002\u0000\u0000PK\u0003\u0004\u0014\u0000\b\b\b\u00006*K\u0000\u0000\u0000\u0000\u0000\u0000\u0000\u0000\u0000\u0000\u0000\u0000\u0013\u0000\u0000\u0000docProps/custom.xmlµÓMo0\u0018\u0007ðû>\u0005é\u001d",
      "[PT\f",
      "`\u00144;ì°Ä{W4¶i«\u001bYöÝWèÑdÓÛÓüí6Ös¢J3Ácà\n",
      "\u0010p('\"gü\u0010ÝvíN£\n",
      "æ9®\u0004§1h¨\u0006óä)zUBRe\u0018ÕMà:\u0006¥1r\u0006¡&%­±\u001e",
      "ØenW\n",
      "¡jlìP\u001d",
      " (\n",
      "Fh&È±¦Ü@\u001f¡1$GmDíÊK\u001c",
      "èòf'ó×È\\ötz¿m¤ÍK¢sxã\n"
     ]
    }
   ],
   "source": [
    "# What's up with these files?  Pandas can read them, but Excel can't! WTF?\n",
    "with open('Community-School-Directory.xlsx', encoding='iso-8859-1') as in_file:\n",
    "    print(in_file.read(512))"
   ]
  },
  {
   "cell_type": "code",
   "execution_count": 12,
   "metadata": {},
   "outputs": [
    {
     "data": {
      "text/html": [
       "<div>\n",
       "<style scoped>\n",
       "    .dataframe tbody tr th:only-of-type {\n",
       "        vertical-align: middle;\n",
       "    }\n",
       "\n",
       "    .dataframe tbody tr th {\n",
       "        vertical-align: top;\n",
       "    }\n",
       "\n",
       "    .dataframe thead th {\n",
       "        text-align: right;\n",
       "    }\n",
       "</style>\n",
       "<table border=\"1\" class=\"dataframe\">\n",
       "  <thead>\n",
       "    <tr style=\"text-align: right;\">\n",
       "      <th></th>\n",
       "      <th>School IRN</th>\n",
       "      <th>School</th>\n",
       "      <th>School Type</th>\n",
       "      <th>School Type 2</th>\n",
       "      <th>School Type 3</th>\n",
       "      <th>Approved Grade Levels</th>\n",
       "      <th>School Report Card</th>\n",
       "      <th>Public District Location IRN</th>\n",
       "      <th>Public District Location</th>\n",
       "      <th>County</th>\n",
       "      <th>...</th>\n",
       "      <th>Sponsor Primary Contact Email2</th>\n",
       "      <th>Sponsor Primary Contact 2 Email1</th>\n",
       "      <th>Sponsor Superintendent</th>\n",
       "      <th>Sponsor Superintendent Email</th>\n",
       "      <th>School Finance Area</th>\n",
       "      <th>CTPD IRN</th>\n",
       "      <th>Career Tech Planning District</th>\n",
       "      <th>ODE CONSULTANT</th>\n",
       "      <th>ODE CONSULTANT PHONE</th>\n",
       "      <th>Additional Information</th>\n",
       "    </tr>\n",
       "  </thead>\n",
       "  <tbody>\n",
       "    <tr>\n",
       "      <th>0</th>\n",
       "      <td>125</td>\n",
       "      <td>Polly Fox Academy Community School</td>\n",
       "      <td>Startup</td>\n",
       "      <td>Dropout Prevention and Recovery</td>\n",
       "      <td>Site Based</td>\n",
       "      <td>7-12</td>\n",
       "      <td>http://reportcard.education.ohio.gov/Pages/Dro...</td>\n",
       "      <td>44909</td>\n",
       "      <td>Toledo City</td>\n",
       "      <td>Lucas</td>\n",
       "      <td>...</td>\n",
       "      <td>NaN</td>\n",
       "      <td>NaN</td>\n",
       "      <td>Romules Durant</td>\n",
       "      <td>rdurant@tps.org</td>\n",
       "      <td>School Finance Area Coordinator 01</td>\n",
       "      <td>200061.0</td>\n",
       "      <td>Toledo City CTPD</td>\n",
       "      <td>Stacey Callahan</td>\n",
       "      <td>(614) 466-2370</td>\n",
       "      <td>https://oeds.ode.state.oh.us/SearchOrg</td>\n",
       "    </tr>\n",
       "    <tr>\n",
       "      <th>1</th>\n",
       "      <td>130</td>\n",
       "      <td>Phoenix Academy Community School</td>\n",
       "      <td>Startup</td>\n",
       "      <td>Dropout Prevention and Recovery</td>\n",
       "      <td>Site Based</td>\n",
       "      <td>7-12</td>\n",
       "      <td>http://reportcard.education.ohio.gov/Pages/Dro...</td>\n",
       "      <td>44909</td>\n",
       "      <td>Toledo City</td>\n",
       "      <td>Lucas</td>\n",
       "      <td>...</td>\n",
       "      <td>NaN</td>\n",
       "      <td>NaN</td>\n",
       "      <td>Romules Durant</td>\n",
       "      <td>rdurant@tps.org</td>\n",
       "      <td>School Finance Area Coordinator 01</td>\n",
       "      <td>200061.0</td>\n",
       "      <td>Toledo City CTPD</td>\n",
       "      <td>Stacey Callahan</td>\n",
       "      <td>(614) 466-2370</td>\n",
       "      <td>https://oeds.ode.state.oh.us/SearchOrg</td>\n",
       "    </tr>\n",
       "    <tr>\n",
       "      <th>2</th>\n",
       "      <td>131</td>\n",
       "      <td>Glass City Academy</td>\n",
       "      <td>Startup</td>\n",
       "      <td>Dropout Prevention and Recovery</td>\n",
       "      <td>Site Based</td>\n",
       "      <td>11-12</td>\n",
       "      <td>http://reportcard.education.ohio.gov/Pages/Dro...</td>\n",
       "      <td>44909</td>\n",
       "      <td>Toledo City</td>\n",
       "      <td>Lucas</td>\n",
       "      <td>...</td>\n",
       "      <td>NaN</td>\n",
       "      <td>NaN</td>\n",
       "      <td>Sandra Frisch</td>\n",
       "      <td>sfrisch@esclakeeriewest.org</td>\n",
       "      <td>School Finance Area Coordinator 01</td>\n",
       "      <td>200061.0</td>\n",
       "      <td>Toledo City CTPD</td>\n",
       "      <td>Deneice Cooper</td>\n",
       "      <td>(614) 387-2244</td>\n",
       "      <td>https://oeds.ode.state.oh.us/SearchOrg</td>\n",
       "    </tr>\n",
       "  </tbody>\n",
       "</table>\n",
       "<p>3 rows × 34 columns</p>\n",
       "</div>"
      ],
      "text/plain": [
       "   School IRN                              School School Type  \\\n",
       "0         125  Polly Fox Academy Community School     Startup   \n",
       "1         130    Phoenix Academy Community School     Startup   \n",
       "2         131                  Glass City Academy     Startup   \n",
       "\n",
       "                     School Type 2 School Type 3 Approved Grade Levels  \\\n",
       "0  Dropout Prevention and Recovery    Site Based                  7-12   \n",
       "1  Dropout Prevention and Recovery    Site Based                  7-12   \n",
       "2  Dropout Prevention and Recovery    Site Based                 11-12   \n",
       "\n",
       "                                  School Report Card  \\\n",
       "0  http://reportcard.education.ohio.gov/Pages/Dro...   \n",
       "1  http://reportcard.education.ohio.gov/Pages/Dro...   \n",
       "2  http://reportcard.education.ohio.gov/Pages/Dro...   \n",
       "\n",
       "   Public District Location IRN Public District Location County  \\\n",
       "0                         44909              Toledo City  Lucas   \n",
       "1                         44909              Toledo City  Lucas   \n",
       "2                         44909              Toledo City  Lucas   \n",
       "\n",
       "                    ...                   Sponsor Primary Contact Email2  \\\n",
       "0                   ...                                              NaN   \n",
       "1                   ...                                              NaN   \n",
       "2                   ...                                              NaN   \n",
       "\n",
       "  Sponsor Primary Contact 2 Email1 Sponsor Superintendent  \\\n",
       "0                              NaN         Romules Durant   \n",
       "1                              NaN         Romules Durant   \n",
       "2                              NaN          Sandra Frisch   \n",
       "\n",
       "  Sponsor Superintendent Email                 School Finance Area  CTPD IRN  \\\n",
       "0              rdurant@tps.org  School Finance Area Coordinator 01  200061.0   \n",
       "1              rdurant@tps.org  School Finance Area Coordinator 01  200061.0   \n",
       "2  sfrisch@esclakeeriewest.org  School Finance Area Coordinator 01  200061.0   \n",
       "\n",
       "  Career Tech Planning District   ODE CONSULTANT ODE CONSULTANT PHONE  \\\n",
       "0              Toledo City CTPD  Stacey Callahan       (614) 466-2370   \n",
       "1              Toledo City CTPD  Stacey Callahan       (614) 466-2370   \n",
       "2              Toledo City CTPD   Deneice Cooper       (614) 387-2244   \n",
       "\n",
       "                   Additional Information  \n",
       "0  https://oeds.ode.state.oh.us/SearchOrg  \n",
       "1  https://oeds.ode.state.oh.us/SearchOrg  \n",
       "2  https://oeds.ode.state.oh.us/SearchOrg  \n",
       "\n",
       "[3 rows x 34 columns]"
      ]
     },
     "execution_count": 12,
     "metadata": {},
     "output_type": "execute_result"
    }
   ],
   "source": [
    "school_directory = pd.read_excel('Community-School-Directory.xlsx')\n",
    "school_directory.head(3)"
   ]
  },
  {
   "cell_type": "code",
   "execution_count": 14,
   "metadata": {},
   "outputs": [
    {
     "data": {
      "text/plain": [
       "Index(['School IRN', 'School', 'School Type', 'School Type 2', 'School Type 3',\n",
       "       'Approved Grade Levels', 'School Report Card',\n",
       "       'Public District Location IRN', 'Public District Location', 'County',\n",
       "       'School Office Phone', 'School Principal', 'Principal Email',\n",
       "       'School Superintendent', 'Superintendent Email', 'Sponsor IRN',\n",
       "       'Sponsor', 'Sponsor Type', 'Sponsor Overall Rating 2015 2016',\n",
       "       'Sponsor Office Phone', 'Sponsor Primary Contact 1',\n",
       "       'Sponsor Primary Contact 2', 'Sponsor Primary Contact 3',\n",
       "       'Sponsor Primary Contact Email1', 'Sponsor Primary Contact Email2',\n",
       "       'Sponsor Primary Contact 2 Email1', 'Sponsor Superintendent',\n",
       "       'Sponsor Superintendent Email', 'School Finance Area', 'CTPD IRN',\n",
       "       'Career Tech Planning District', 'ODE CONSULTANT',\n",
       "       'ODE CONSULTANT PHONE', 'Additional Information'],\n",
       "      dtype='object')"
      ]
     },
     "execution_count": 14,
     "metadata": {},
     "output_type": "execute_result"
    }
   ],
   "source": [
    "school_directory.columns"
   ]
  },
  {
   "cell_type": "code",
   "execution_count": 18,
   "metadata": {},
   "outputs": [
    {
     "data": {
      "text/plain": [
       "0    Ineffective\n",
       "1    Ineffective\n",
       "2    Ineffective\n",
       "3    Ineffective\n",
       "4    Ineffective\n",
       "Name: Sponsor Overall Rating 2015 2016, dtype: object"
      ]
     },
     "execution_count": 18,
     "metadata": {},
     "output_type": "execute_result"
    }
   ],
   "source": [
    "sponsor_overall_rating = school_directory['Sponsor Overall Rating 2015 2016']\n",
    "sponsor_overall_rating.head(5)"
   ]
  },
  {
   "cell_type": "code",
   "execution_count": 19,
   "metadata": {},
   "outputs": [
    {
     "data": {
      "text/plain": [
       "count             362\n",
       "unique              3\n",
       "top       Ineffective\n",
       "freq              230\n",
       "Name: Sponsor Overall Rating 2015 2016, dtype: object"
      ]
     },
     "execution_count": 19,
     "metadata": {},
     "output_type": "execute_result"
    }
   ],
   "source": [
    "sponsor_overall_rating.describe()"
   ]
  },
  {
   "cell_type": "code",
   "execution_count": null,
   "metadata": {},
   "outputs": [],
   "source": []
  },
  {
   "cell_type": "code",
   "execution_count": 31,
   "metadata": {},
   "outputs": [],
   "source": [
    "grouped = sponsor_overall_rating.groupby(sponsor_overall_rating)"
   ]
  },
  {
   "cell_type": "code",
   "execution_count": 32,
   "metadata": {},
   "outputs": [
    {
     "data": {
      "text/plain": [
       "Sponsor Overall Rating 2015 2016\n",
       "Effective      108\n",
       "Ineffective    230\n",
       "Poor            24\n",
       "Name: Sponsor Overall Rating 2015 2016, dtype: int64"
      ]
     },
     "execution_count": 32,
     "metadata": {},
     "output_type": "execute_result"
    }
   ],
   "source": [
    "grouped.count()"
   ]
  },
  {
   "cell_type": "code",
   "execution_count": null,
   "metadata": {},
   "outputs": [],
   "source": []
  },
  {
   "cell_type": "code",
   "execution_count": null,
   "metadata": {},
   "outputs": [],
   "source": []
  }
 ],
 "metadata": {
  "kernelspec": {
   "display_name": "Python 3",
   "language": "python",
   "name": "python3"
  },
  "language_info": {
   "codemirror_mode": {
    "name": "ipython",
    "version": 3
   },
   "file_extension": ".py",
   "mimetype": "text/x-python",
   "name": "python",
   "nbconvert_exporter": "python",
   "pygments_lexer": "ipython3",
   "version": "3.7.1"
  }
 },
 "nbformat": 4,
 "nbformat_minor": 2
}
